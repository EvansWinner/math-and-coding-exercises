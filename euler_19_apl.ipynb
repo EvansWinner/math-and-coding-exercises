{
 "cells": [
  {
   "cell_type": "markdown",
   "metadata": {},
   "source": [
    "Project Euler #19 in Dyalog APL\n",
    "================================\n",
    "\n",
    "## Introduction\n",
    "\n",
    "I thought [Project Euler problem #19](https://projecteuler.net/problem=19) was a good little problem for someone new to APL. This is a chatty walk-through of my process. \n",
    "\n",
    "Briefly, the idea of the problem is to calculate the number of months in the 20th century the 1st day of which fell on a Sunday.\n",
    "\n",
    "I have played a little with APL, like it, and flatter myself that I'm starting to get some feel for the idea behind it, but am still very new with it. I'm also not doing anything fancy or sophisticated here, and I think just about any APL would work, though my use of the @ operator at one point would have to be replaced with something else for, eg., GNU APL.\n",
    "\n",
    "It's obvious that there is a simple closed-form answer for this problem, further, there are obvious ways to go about finding a solution by Fortran-like looping and accumlators; but as I am trying to learn APL the goal here is to find an array-based, \"wholemeal\" solution to the problem.\n",
    "\n",
    "## 1. Sanity Check\n",
    "\n",
    "First, for the sake of later sanity checking, let's figure out a ballpark idea of what our answer should be.\n",
    "\n",
    "We know that there are 1200 months in 100 years. We expect Sunday to fall on very close to one seventh of that:"
   ]
  },
  {
   "cell_type": "code",
   "execution_count": 58,
   "metadata": {},
   "outputs": [
    {
     "data": {
      "text/html": [
       "<span style=\"white-space:pre; font-family: monospace\">171.429\n",
       "</span>"
      ]
     },
     "execution_count": 58,
     "metadata": {},
     "output_type": "execute_result"
    }
   ],
   "source": [
    "(100×12)÷7"
   ]
  },
  {
   "cell_type": "markdown",
   "metadata": {},
   "source": [
    "So we expect our final answer to fall somewhere around 171."
   ]
  },
  {
   "cell_type": "markdown",
   "metadata": {},
   "source": [
    "## 2. Create a days-of-the-week bitmask vector\n",
    "\n",
    "How many days are in the 20th century? We know that there are 365 days in a normal year, and one more every four years, and we know that the year 2000, even though it was divisible by 100 was a leap year anyway, because it is also divisible by 400 as well.\n",
    "\n",
    "That means that the year 2000 was not an exception to the rule of leap year every four years, which means that there were exactly 365.25 days average per year over the whole century. That makes 36525 total days in the century. Let's use the same logic as above, but to create a list of all the days of the week for the whole century. Once we do that, we can use a predicate checking for the day 7 (Sunday) and end up with a bit mask of 36525 values that are 0 where it is not Sunday, and 1 where it is. We also need to rotate the arrray by 1 (from Monday to Tuesday) because we know that January 1st, 1901 was a Tuesday. (The problem statement said we were allowed to look that up. But you can also work it out easily from the starting day of the year before, 1900, which they do give.) To do that, we will generate a vector one day longer than we need, and then drop the first (Monday) value.\n",
    "\n",
    "We will check only the first and last few values."
   ]
  },
  {
   "cell_type": "code",
   "execution_count": 64,
   "metadata": {},
   "outputs": [
    {
     "data": {
      "text/html": [
       "<span style=\"white-space:pre; font-family: monospace\">First 25 days: 0 0 0 0 0 1 0 0 0 0 0 0 1 0 0 0 0 0 0 1 0 0 0 0 0\n",
       "</span>"
      ]
     },
     "execution_count": 64,
     "metadata": {},
     "output_type": "execute_result"
    },
    {
     "data": {
      "text/html": [
       "<span style=\"white-space:pre; font-family: monospace\"> Last 25 days: 0 0 0 1 0 0 0 0 0 0 1 0 0 0 0 0 0 1 0 0 0 0 0 0 1\n",
       "</span>"
      ]
     },
     "execution_count": 64,
     "metadata": {},
     "output_type": "execute_result"
    }
   ],
   "source": [
    "'First 25 days:',25↑days←7=1↓36526⍴⍳7\n",
    "' Last 25 days:',((⍴days)-25)↓days"
   ]
  },
  {
   "cell_type": "markdown",
   "metadata": {},
   "source": [
    "## 3 Create a firsts-of-the-months bitmask vector\n",
    "\n",
    "Ok, that was the easy part. The game plan is now to create a new mask the exact same length, but which contains a 1 only where the day is the first of a month. Once we've created that, we can simply `and` them together (or multiply them, which amounts to the same thing) to get a vector showing all those days which are both the first of a month and a Sunday. Then we just tot up all the ones in the vector and Bob's your uncle.\n",
    "\n",
    "Let's build up the solution from parts. We will start by creating a vector where we calculate all the firsts of the months as Julian dates of one year -- that is, as the nth day of the year. We'll do that based on the rhyme of \"Thirty days hath September,\" etc. The idea here is we enter in the lengths of all the months, do a running sum with `+\\`, then add one to them to get the next day (the first of the next month) take `↑` only the first eleven, since we don't need the first of the next year, and finally add a 1 to the front of the array  with `,` to represent the first month, January."
   ]
  },
  {
   "cell_type": "code",
   "execution_count": 66,
   "metadata": {},
   "outputs": [
    {
     "data": {
      "text/html": [
       "<span style=\"white-space:pre; font-family: monospace\">1 32 60 91 121 152 182 213 244 274 305 335\n",
       "</span>"
      ]
     },
     "execution_count": 66,
     "metadata": {},
     "output_type": "execute_result"
    }
   ],
   "source": [
    "⎕←yearFirsts←1,11↑1++\\31 28 31 30 31 30 31 31 30 31 30 31"
   ]
  },
  {
   "cell_type": "markdown",
   "metadata": {},
   "source": [
    "Let's just make a modified copy of that to represent leap years. I think this could be done lots of ways, but I will add one to all but the first two values (the first of Jan and of Feb) sort of manually:"
   ]
  },
  {
   "cell_type": "code",
   "execution_count": 67,
   "metadata": {},
   "outputs": [
    {
     "data": {
      "text/html": [
       "<span style=\"white-space:pre; font-family: monospace\">1 32 61 92 122 153 183 214 245 275 306 336\n",
       "</span>"
      ]
     },
     "execution_count": 67,
     "metadata": {},
     "output_type": "execute_result"
    }
   ],
   "source": [
    "⎕←leapFirsts←(2↑yearFirsts),1+2↓yearFirsts"
   ]
  },
  {
   "cell_type": "markdown",
   "metadata": {},
   "source": [
    "Let's generate a bit mask for just one normal year. I will use the @ operator from Dyalog here, which took me forever for me to figure out how to use. It turns out \"at\" isn't very Googlable. Anyway, there is probably a more portable way to do it, but I don't know it yet. We'll show the first three months of firsts to verify the leap year looks different. Let's wrap them in blocks to make them look better."
   ]
  },
  {
   "cell_type": "code",
   "execution_count": 92,
   "metadata": {},
   "outputs": [
    {
     "data": {
      "text/html": [
       "<span style=\"white-space:pre; font-family: monospace\">Normal year:\n",
       "1 0 0 0 0 0 0 0 0 0 0 0 0 0 0 0 0 0 0 0 0 0 0 0 0 0 0 0 0 0 0 1\n",
       "0 0 0 0 0 0 0 0 0 0 0 0 0 0 0 0 0 0 0 0 0 0 0 0 0 0 0 1 0 0 0 0\n",
       "</span>"
      ]
     },
     "execution_count": 92,
     "metadata": {},
     "output_type": "execute_result"
    },
    {
     "data": {
      "text/html": [
       "<span style=\"white-space:pre; font-family: monospace\">Leap year:\n",
       "1 0 0 0 0 0 0 0 0 0 0 0 0 0 0 0 0 0 0 0 0 0 0 0 0 0 0 0 0 0 0 1\n",
       "0 0 0 0 0 0 0 0 0 0 0 0 0 0 0 0 0 0 0 0 0 0 0 0 0 0 0 0 1 0 0 0\n",
       "</span>"
      ]
     },
     "execution_count": 92,
     "metadata": {},
     "output_type": "execute_result"
    }
   ],
   "source": [
    "'Normal year:'⋄2 32⍴64↑yearMask←(1@yearFirsts)365⍴0\n",
    "'Leap year:'⋄2 32⍴64↑leapyearMask←(1@leapFirsts)366⍴0"
   ]
  },
  {
   "cell_type": "markdown",
   "metadata": {},
   "source": [
    "So now, it might not be very elegant, but let's just concatenate three of the normal years together, and then concatenate a leap year on to that. Once that's done, let's repeat that four-year vector 25 times and get the whole century."
   ]
  },
  {
   "cell_type": "code",
   "execution_count": 86,
   "metadata": {},
   "outputs": [],
   "source": [
    "fourYearsOfFirsts←yearMask,yearMask,yearMask,leapyearMask"
   ]
  },
  {
   "cell_type": "code",
   "execution_count": 87,
   "metadata": {},
   "outputs": [],
   "source": [
    "⍝ A whole century...\n",
    "firsts←36525⍴fourYearsOfFirsts"
   ]
  },
  {
   "cell_type": "markdown",
   "metadata": {},
   "source": [
    "Just as a sanity check, let's make sure firsts and days are the same length. 1 means success:"
   ]
  },
  {
   "cell_type": "code",
   "execution_count": 89,
   "metadata": {},
   "outputs": [
    {
     "data": {
      "text/html": [
       "<span style=\"white-space:pre; font-family: monospace\">1\n",
       "</span>"
      ]
     },
     "execution_count": 89,
     "metadata": {},
     "output_type": "execute_result"
    }
   ],
   "source": [
    "(⍴days)=⍴firsts"
   ]
  },
  {
   "cell_type": "markdown",
   "metadata": {},
   "source": [
    "## 4. Uncle Bob\n",
    "\n",
    "Ok, so, without further ado, let's multiply the days vector and the firsts vector, and count the number of 1s in the resut. That should be our answer:"
   ]
  },
  {
   "cell_type": "code",
   "execution_count": 90,
   "metadata": {},
   "outputs": [
    {
     "data": {
      "text/html": [
       "<span style=\"white-space:pre; font-family: monospace\">171\n",
       "</span>"
      ]
     },
     "execution_count": 90,
     "metadata": {},
     "output_type": "execute_result"
    }
   ],
   "source": [
    "+/days×firsts"
   ]
  },
  {
   "cell_type": "markdown",
   "metadata": {},
   "source": [
    "Ta-da! That matches the estimate we had at the beginning pretty well.\n",
    "\n",
    "It seems to me that one nice advantage of the APL approach to this is that it does not as easily get trapped in weird off-by-one errors. If I'd had to do this in Fortran or Python or whatever else, in a loopy style, I am sure I would have spent most of my time debugging errors to do with whether the last week in the century had a Sunday in it or how the days of the week offset from one year to the next and so on, and if statements about the leap year. This solution is nice because we can generate the entire century of days and of firsts of months and just overlay the two vectors. So... in conclusion... rah for APL!"
   ]
  }
 ],
 "metadata": {
  "kernelspec": {
   "display_name": "Dyalog APL",
   "language": "apl",
   "name": "dyalog-kernel"
  },
  "language_info": {
   "file_extension": ".apl",
   "mimetype": "text/apl",
   "name": "APL"
  }
 },
 "nbformat": 4,
 "nbformat_minor": 4
}
